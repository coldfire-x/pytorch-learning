{
 "cells": [
  {
   "cell_type": "code",
   "execution_count": 4,
   "metadata": {},
   "outputs": [
    {
     "name": "stdout",
     "output_type": "stream",
     "text": [
      "Looking in indexes: https://pypi.tuna.tsinghua.edu.cn/simple\n",
      "Collecting imageio\n",
      "  Downloading https://pypi.tuna.tsinghua.edu.cn/packages/02/25/66533a8390e3763cf8254dee143dbf8a830391ea60d2762512ba7f9ddfbe/imageio-2.34.0-py3-none-any.whl (313 kB)\n",
      "\u001b[K     |████████████████████████████████| 313 kB 379 kB/s eta 0:00:01\n",
      "\u001b[?25hRequirement already satisfied: numpy in /usr/local/Caskroom/miniconda/base/lib/python3.8/site-packages (from imageio) (1.24.4)\n",
      "Requirement already satisfied: pillow>=8.3.2 in /usr/local/Caskroom/miniconda/base/lib/python3.8/site-packages (from imageio) (10.2.0)\n",
      "Installing collected packages: imageio\n",
      "Successfully installed imageio-2.34.0\n"
     ]
    }
   ],
   "source": [
    "!pip3 install imageio"
   ]
  },
  {
   "cell_type": "code",
   "execution_count": 5,
   "metadata": {},
   "outputs": [],
   "source": [
    "import imageio"
   ]
  },
  {
   "cell_type": "code",
   "execution_count": 6,
   "metadata": {},
   "outputs": [
    {
     "name": "stderr",
     "output_type": "stream",
     "text": [
      "/var/folders/nq/h14f6pfn34l442ftf2dd6g780000gn/T/ipykernel_5716/2702584100.py:1: DeprecationWarning: Starting with ImageIO v3 the behavior of this function will switch to that of iio.v3.imread. To keep the current behavior (and make this warning disappear) use `import imageio.v2 as imageio` or call `imageio.v2.imread` directly.\n",
      "  im = imageio.imread(\"1.jpg\")\n"
     ]
    }
   ],
   "source": [
    "im = imageio.imread(\"1.jpg\")"
   ]
  },
  {
   "cell_type": "code",
   "execution_count": 77,
   "metadata": {},
   "outputs": [
    {
     "name": "stdout",
     "output_type": "stream",
     "text": [
      "Help on built-in function mean:\n",
      "\n",
      "mean(...) method of numpy.ndarray instance\n",
      "    a.mean(axis=None, dtype=None, out=None, keepdims=False, *, where=True)\n",
      "    \n",
      "    Returns the average of the array elements along given axis.\n",
      "    \n",
      "    Refer to `numpy.mean` for full documentation.\n",
      "    \n",
      "    See Also\n",
      "    --------\n",
      "    numpy.mean : equivalent function\n",
      "\n"
     ]
    }
   ],
   "source": [
    "help(im.mean)"
   ]
  },
  {
   "cell_type": "code",
   "execution_count": 79,
   "metadata": {},
   "outputs": [
    {
     "data": {
      "text/plain": [
       "((2316, 3088, 3),\n",
       " array([[163.09455959, 157.25993092, 152.62823834],\n",
       "        [163.65889465, 157.82469775, 153.19084629],\n",
       "        [163.62348877, 157.7888601 , 153.15544041],\n",
       "        ...,\n",
       "        [ 37.35794473,  39.92141623,  42.83462867],\n",
       "        [ 37.17055268,  39.6148532 ,  42.66018998],\n",
       "        [ 37.04317789,  39.50690846,  42.53756477]]),\n",
       " array([[117.81703368, 117.74838083, 117.80667098],\n",
       "        [118.36690415, 118.2878886 , 118.34423575],\n",
       "        [118.19689119, 118.08646373, 118.1865285 ],\n",
       "        ...,\n",
       "        [158.25032383, 142.59488342, 128.15576425],\n",
       "        [158.32091969, 142.60621762, 128.05408031],\n",
       "        [158.19073834, 142.4488342 , 127.83387306]]),\n",
       " array([[148.33333333, 144.33333333, 142.33333333, ...,  32.33333333,\n",
       "          32.33333333,  33.33333333],\n",
       "        [149.33333333, 145.33333333, 143.33333333, ...,  35.33333333,\n",
       "          36.33333333,  27.33333333],\n",
       "        [149.33333333, 145.33333333, 144.33333333, ...,  31.33333333,\n",
       "          33.33333333,  28.33333333],\n",
       "        ...,\n",
       "        [162.66666667, 165.66666667, 163.66666667, ...,  46.66666667,\n",
       "          46.66666667,  43.66666667],\n",
       "        [161.66666667, 165.66666667, 163.66666667, ...,  38.66666667,\n",
       "          40.66666667,  41.66666667],\n",
       "        [162.66666667, 167.66666667, 165.66666667, ...,  34.66666667,\n",
       "          38.66666667,  43.66666667]]))"
      ]
     },
     "execution_count": 79,
     "metadata": {},
     "output_type": "execute_result"
    }
   ],
   "source": [
    "im.shape, im.mean(0), im.mean(1), im.mean(2)#, im.mean(3)"
   ]
  },
  {
   "cell_type": "code",
   "execution_count": 13,
   "metadata": {},
   "outputs": [],
   "source": [
    "#help(imageio.imread)\n",
    "#help(im)\n",
    "\n",
    "import torch\n",
    "\n",
    "tensor_im = torch.from_numpy(im)"
   ]
  },
  {
   "cell_type": "code",
   "execution_count": 18,
   "metadata": {},
   "outputs": [
    {
     "data": {
      "text/plain": [
       "(tensor(123.1673), tensor(63.3897))"
      ]
     },
     "execution_count": 18,
     "metadata": {},
     "output_type": "execute_result"
    }
   ],
   "source": [
    "out = tensor_im.permute(2, 0, 1)\n",
    "out = out.float()\n",
    "\n",
    "torch.mean(out), torch.std(out)"
   ]
  },
  {
   "cell_type": "code",
   "execution_count": 19,
   "metadata": {},
   "outputs": [],
   "source": [
    "import numpy as np "
   ]
  },
  {
   "cell_type": "code",
   "execution_count": 30,
   "metadata": {},
   "outputs": [],
   "source": [
    "csv = np.loadtxt(\"order.csv\",delimiter=',', skiprows=1)"
   ]
  },
  {
   "cell_type": "code",
   "execution_count": 32,
   "metadata": {},
   "outputs": [
    {
     "data": {
      "text/plain": [
       "((5, 4),\n",
       " array([[2.14602184e+09, 1.51733686e+09, 0.00000000e+00, 0.00000000e+00],\n",
       "        [2.14602184e+09, 1.51733754e+09, 0.00000000e+00, 0.00000000e+00],\n",
       "        [2.14602184e+09, 1.51735479e+09, 5.27400000e+03, 5.27400000e+03],\n",
       "        [2.14602184e+09, 1.51739219e+09, 0.00000000e+00, 0.00000000e+00],\n",
       "        [2.14602184e+09, 1.51739449e+09, 0.00000000e+00, 0.00000000e+00]]))"
      ]
     },
     "execution_count": 32,
     "metadata": {},
     "output_type": "execute_result"
    }
   ],
   "source": [
    "csv.shape, csv"
   ]
  },
  {
   "cell_type": "code",
   "execution_count": 58,
   "metadata": {},
   "outputs": [
    {
     "data": {
      "text/plain": [
       "tensor([[2.1460e+09, 1.5173e+09, 0.0000e+00, 0.0000e+00],\n",
       "        [2.1460e+09, 1.5173e+09, 0.0000e+00, 0.0000e+00],\n",
       "        [2.1460e+09, 1.5174e+09, 5.2740e+03, 5.2740e+03],\n",
       "        [2.1460e+09, 1.5174e+09, 0.0000e+00, 0.0000e+00],\n",
       "        [2.1460e+09, 1.5174e+09, 0.0000e+00, 0.0000e+00]], dtype=torch.float64)"
      ]
     },
     "execution_count": 58,
     "metadata": {},
     "output_type": "execute_result"
    }
   ],
   "source": [
    "target = torch.from_numpy(csv)\n",
    "target"
   ]
  },
  {
   "cell_type": "code",
   "execution_count": 98,
   "metadata": {},
   "outputs": [
    {
     "data": {
      "text/plain": [
       "(tensor([[0., 0.],\n",
       "         [0., 0.],\n",
       "         [0., 0.],\n",
       "         [0., 0.],\n",
       "         [0., 0.]], dtype=torch.float64),\n",
       " torch.float64,\n",
       " torch.Size([5, 2]))"
      ]
     },
     "execution_count": 98,
     "metadata": {},
     "output_type": "execute_result"
    }
   ],
   "source": [
    "target_onehot = torch.zeros(target.shape[0], 2, dtype=float)\n",
    "target_onehot, target_onehot.dtype, target_onehot.shape"
   ]
  },
  {
   "cell_type": "code",
   "execution_count": 99,
   "metadata": {},
   "outputs": [
    {
     "data": {
      "text/plain": [
       "tensor([[0.0000e+00, 2.1460e+09],\n",
       "        [2.1460e+09, 0.0000e+00],\n",
       "        [0.0000e+00, 2.1460e+09],\n",
       "        [0.0000e+00, 2.1460e+09],\n",
       "        [0.0000e+00, 2.1460e+09]], dtype=torch.float64)"
      ]
     },
     "execution_count": 99,
     "metadata": {},
     "output_type": "execute_result"
    }
   ],
   "source": [
    "target_onehot.scatter_(1, torch.tensor([[1], [0], [1], [1], [1]]), target)"
   ]
  },
  {
   "cell_type": "code",
   "execution_count": 71,
   "metadata": {},
   "outputs": [
    {
     "data": {
      "text/plain": [
       "tensor([[2.1460e+09, 0.0000e+00],\n",
       "        [0.0000e+00, 2.1460e+09],\n",
       "        [0.0000e+00, 2.1460e+09],\n",
       "        [0.0000e+00, 2.1460e+09],\n",
       "        [0.0000e+00, 2.1460e+09]], dtype=torch.float64)"
      ]
     },
     "execution_count": 71,
     "metadata": {},
     "output_type": "execute_result"
    }
   ],
   "source": [
    "target_onehot.scatter_(1, torch.tensor([[0], [1], [1], [1], [1]]), target)"
   ]
  },
  {
   "cell_type": "code",
   "execution_count": 89,
   "metadata": {},
   "outputs": [
    {
     "name": "stdout",
     "output_type": "stream",
     "text": [
      "tensor([[1., 2., 0.],\n",
      "        [2., 1., 0.],\n",
      "        [0., 0., 2.]], dtype=torch.float64)\n"
     ]
    }
   ],
   "source": [
    "import torch\n",
    "\n",
    "# Create a tensor to scatter values into\n",
    "tensor = torch.zeros(3, 3,dtype=float)\n",
    "\n",
    "# Define indices where you want to scatter values\n",
    "indices = torch.tensor([[0, 1, 2],\n",
    "                        [1, 0, 2]])\n",
    "\n",
    "# Define source values to scatter\n",
    "values = torch.tensor([[1, 1, 1],\n",
    "                       [2, 2, 2]],dtype=float)\n",
    "\n",
    "# Scatter the values into the tensor along the specified dimension (dim=0 in this case)\n",
    "result = tensor.scatter(dim=0, index=indices, src=values)\n",
    "\n",
    "print(result)\n"
   ]
  },
  {
   "cell_type": "code",
   "execution_count": 75,
   "metadata": {},
   "outputs": [
    {
     "name": "stdout",
     "output_type": "stream",
     "text": [
      "Help on built-in function stride:\n",
      "\n",
      "stride(...) method of torch.Tensor instance\n",
      "    stride(dim) -> tuple or int\n",
      "    \n",
      "    Returns the stride of :attr:`self` tensor.\n",
      "    \n",
      "    Stride is the jump necessary to go from one element to the next one in the\n",
      "    specified dimension :attr:`dim`. A tuple of all strides is returned when no\n",
      "    argument is passed in. Otherwise, an integer value is returned as the stride in\n",
      "    the particular dimension :attr:`dim`.\n",
      "    \n",
      "    Args:\n",
      "        dim (int, optional): the desired dimension in which stride is required\n",
      "    \n",
      "    Example::\n",
      "    \n",
      "        >>> x = torch.tensor([[1, 2, 3, 4, 5], [6, 7, 8, 9, 10]])\n",
      "        >>> x.stride()\n",
      "        (5, 1)\n",
      "        >>> x.stride(0)\n",
      "        5\n",
      "        >>> x.stride(-1)\n",
      "        1\n",
      "\n"
     ]
    }
   ],
   "source": [
    "help(target.stride)"
   ]
  },
  {
   "cell_type": "code",
   "execution_count": 82,
   "metadata": {},
   "outputs": [
    {
     "name": "stdout",
     "output_type": "stream",
     "text": [
      "Looking in indexes: https://pypi.tuna.tsinghua.edu.cn/simple\n",
      "Collecting torchvision\n",
      "  Downloading https://pypi.tuna.tsinghua.edu.cn/packages/f8/07/1e8637981fed289de95624de4265d4dac31f86000b68662b51433eb6a239/torchvision-0.17.1-cp38-cp38-macosx_10_13_x86_64.whl (1.7 MB)\n",
      "\u001b[K     |████████████████████████████████| 1.7 MB 101 kB/s eta 0:00:01\n",
      "\u001b[?25hRequirement already satisfied: torch==2.2.1 in /usr/local/Caskroom/miniconda/base/lib/python3.8/site-packages (from torchvision) (2.2.1)\n",
      "Requirement already satisfied: numpy in /usr/local/Caskroom/miniconda/base/lib/python3.8/site-packages (from torchvision) (1.24.4)\n",
      "Requirement already satisfied: pillow!=8.3.*,>=5.3.0 in /usr/local/Caskroom/miniconda/base/lib/python3.8/site-packages (from torchvision) (10.2.0)\n",
      "Requirement already satisfied: typing-extensions>=4.8.0 in /usr/local/Caskroom/miniconda/base/lib/python3.8/site-packages (from torch==2.2.1->torchvision) (4.9.0)\n",
      "Requirement already satisfied: networkx in /usr/local/Caskroom/miniconda/base/lib/python3.8/site-packages (from torch==2.2.1->torchvision) (3.1)\n",
      "Requirement already satisfied: jinja2 in /usr/local/Caskroom/miniconda/base/lib/python3.8/site-packages (from torch==2.2.1->torchvision) (3.1.3)\n",
      "Requirement already satisfied: fsspec in /usr/local/Caskroom/miniconda/base/lib/python3.8/site-packages (from torch==2.2.1->torchvision) (2024.2.0)\n",
      "Requirement already satisfied: sympy in /usr/local/Caskroom/miniconda/base/lib/python3.8/site-packages (from torch==2.2.1->torchvision) (1.12)\n",
      "Requirement already satisfied: filelock in /usr/local/Caskroom/miniconda/base/lib/python3.8/site-packages (from torch==2.2.1->torchvision) (3.13.1)\n",
      "Requirement already satisfied: MarkupSafe>=2.0 in /usr/local/Caskroom/miniconda/base/lib/python3.8/site-packages (from jinja2->torch==2.2.1->torchvision) (2.1.3)\n",
      "Requirement already satisfied: mpmath>=0.19 in /usr/local/Caskroom/miniconda/base/lib/python3.8/site-packages (from sympy->torch==2.2.1->torchvision) (1.3.0)\n",
      "Installing collected packages: torchvision\n",
      "Successfully installed torchvision-0.17.1\n"
     ]
    }
   ],
   "source": [
    "!pip3 install torchvision"
   ]
  },
  {
   "cell_type": "code",
   "execution_count": 84,
   "metadata": {},
   "outputs": [
    {
     "name": "stdout",
     "output_type": "stream",
     "text": [
      "Shape of Image Tensor:\n",
      " torch.Size([3, 2316, 3088])\n",
      "Mean across Red channel: tensor(0.5085)\n",
      "Mean across Green channel: tensor(0.4794)\n",
      "Mean across Blue channel: tensor(0.4611)\n"
     ]
    },
    {
     "data": {
      "text/plain": [
       "tensor([[0.5961, 0.5804, 0.5725, 0.5804, 0.5843, 0.5765],\n",
       "        [0.6000, 0.5843, 0.5765, 0.5843, 0.5922, 0.5843],\n",
       "        [0.6000, 0.5843, 0.5804, 0.5961, 0.6000, 0.5882],\n",
       "        [0.6039, 0.5882, 0.5882, 0.6000, 0.6000, 0.5882],\n",
       "        [0.5961, 0.5922, 0.5922, 0.5961, 0.5922, 0.5882],\n",
       "        [0.5882, 0.5961, 0.6000, 0.5922, 0.5843, 0.5882]])"
      ]
     },
     "execution_count": 84,
     "metadata": {},
     "output_type": "execute_result"
    }
   ],
   "source": [
    "## rgb mean\n",
    "# Python program to find mean across the image channels\n",
    "# import necessary libraries\n",
    "import torch\n",
    "from PIL import Image\n",
    "import torchvision.transforms as transforms\n",
    "\n",
    "# Read the input image\n",
    "img = Image.open('1.jpg')\n",
    "\n",
    "# Define transform to convert the image to PyTorch Tensor\n",
    "transform = transforms.ToTensor()\n",
    "\n",
    "# Convert image to PyTorch Tensor (Image Tensor)\n",
    "imgTensor = transform(img)\n",
    "print(\"Shape of Image Tensor:\\n\", imgTensor.shape)\n",
    "\n",
    "# Compute mean of the Image Tensor across image channels RGB\n",
    "R_mean, G_mean ,B_mean = torch.mean(imgTensor, dim = [1,2])\n",
    "\n",
    "# print mean across image channel RGB\n",
    "print(\"Mean across Red channel:\", R_mean)\n",
    "print(\"Mean across Green channel:\", G_mean)\n",
    "print(\"Mean across Blue channel:\", B_mean)\n",
    "\n",
    "imgTensor[0,:6,:6]"
   ]
  },
  {
   "cell_type": "code",
   "execution_count": 105,
   "metadata": {},
   "outputs": [
    {
     "data": {
      "text/plain": [
       "tensor([2., 5.], dtype=torch.float64)"
      ]
     },
     "execution_count": 105,
     "metadata": {},
     "output_type": "execute_result"
    }
   ],
   "source": [
    "tensor = torch.tensor([[1, 2, 3],\n",
    "                       [4, 5, 6]],dtype=float)\n",
    "\n",
    "tensor.mean(dim=1)"
   ]
  }
 ],
 "metadata": {
  "kernelspec": {
   "display_name": "Python 3",
   "language": "python",
   "name": "python3"
  },
  "language_info": {
   "codemirror_mode": {
    "name": "ipython",
    "version": 3
   },
   "file_extension": ".py",
   "mimetype": "text/x-python",
   "name": "python",
   "nbconvert_exporter": "python",
   "pygments_lexer": "ipython3",
   "version": "3.8.10"
  }
 },
 "nbformat": 4,
 "nbformat_minor": 2
}
